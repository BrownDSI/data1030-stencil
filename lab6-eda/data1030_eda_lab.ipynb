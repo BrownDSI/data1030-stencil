{
 "cells": [
  {
   "cell_type": "markdown",
   "metadata": {
    "slideshow": {
     "slide_type": "slide"
    }
   },
   "source": [
    "# DATA 1030 Exploratory Data Analysis Lab\n"
   ]
  },
  {
   "cell_type": "markdown",
   "metadata": {},
   "source": [
    "## Lab Overview\n",
    "* **TA Demo** Run `jupyter nbconvert data1030_eda_lab.ipynb --to slides --post serve` in the directory of this notebook\n",
    "* **Students** Please run `jupyter-notebook` in the directory of this notebook\n",
    "* Download the datasets [hubway_trips.csv](https://drive.google.com/open?id=1UDy46QKDDBoAhoQGQkKvrCDBq058qHtx) and [hubway_stations.csv](https://drive.google.com/open?id=1I45gpcbiPzWu_peSzK0OM65DvB5WeOeC)\n",
    "* Please complete all the TODOs. **Most of the tasks require 1-2 lines of code.**\n",
    "* When in doubt, reference the Pandas and Scikit-Learn documentation."
   ]
  },
  {
   "cell_type": "code",
   "execution_count": null,
   "metadata": {
    "collapsed": true,
    "slideshow": {
     "slide_type": "skip"
    }
   },
   "outputs": [],
   "source": [
    "# Run this cell before completing the tasks below\n",
    "\n",
    "%matplotlib inline\n",
    "import matplotlib\n",
    "import pandas as pd # package for data analysis, reading in the data, summarizing data, manipulating data\n",
    "import numpy as np # package for math operations\n",
    "import matplotlib.pyplot as plt # package for plotting\n",
    "from IPython.display import Image\n",
    "from sklearn import preprocessing, neighbors"
   ]
  },
  {
   "cell_type": "markdown",
   "metadata": {
    "slideshow": {
     "slide_type": "subslide"
    }
   },
   "source": [
    "# Dataset - Hubway Bike Rentals\n",
    "* Bike trips taken with a variety of metrics collected on the trip\n",
    "* Questions that the data can answer:\n",
    "  * Where do Hubway users ride? \n",
    "  * When do they ride? \n",
    "  * How far do they go? \n",
    "  * Which stations are most popular? \n",
    "  * On what days of the week are most rides taken? \n",
    "  * How do user patterns differ between members and casual riders? "
   ]
  },
  {
   "cell_type": "markdown",
   "metadata": {
    "slideshow": {
     "slide_type": "subslide"
    }
   },
   "source": [
    "# DATA EXPLORATION\n",
    "\n",
    "# First look at the data\n",
    "\n",
    "* Read in raw data - we will be using [Pandas](http://pandas.pydata.org/pandas-docs/stable/10min.html) to make a DataFrame. \n",
    "* What are the attributes of the data?\n",
    "* Summary statistics"
   ]
  },
  {
   "cell_type": "code",
   "execution_count": null,
   "metadata": {
    "collapsed": false,
    "slideshow": {
     "slide_type": "fragment"
    }
   },
   "outputs": [],
   "source": [
    "trips = pd.read_csv('hubway_trips.csv') # read in the data as a DataFrame\n",
    "trips.head() # shows the first couple of rows of the dataset"
   ]
  },
  {
   "cell_type": "markdown",
   "metadata": {
    "slideshow": {
     "slide_type": "subslide"
    }
   },
   "source": [
    "What is the dimensionality of our dataset (number of rows, number of columns)?"
   ]
  },
  {
   "cell_type": "code",
   "execution_count": null,
   "metadata": {
    "collapsed": false,
    "slideshow": {
     "slide_type": "fragment"
    }
   },
   "outputs": [],
   "source": [
    "print(trips.shape) # what is the dimensionality of our dataset (number of rows, number of columns)"
   ]
  },
  {
   "cell_type": "markdown",
   "metadata": {
    "slideshow": {
     "slide_type": "subslide"
    }
   },
   "source": [
    "Summary statistics for our dataset for both numerical and categorical variables:"
   ]
  },
  {
   "cell_type": "code",
   "execution_count": null,
   "metadata": {
    "collapsed": false,
    "slideshow": {
     "slide_type": "fragment"
    }
   },
   "outputs": [],
   "source": [
    "trips.describe(include = 'all') # get counts and summary statistics for the data (include is to show results for numerical and categorical data)"
   ]
  },
  {
   "cell_type": "markdown",
   "metadata": {
    "slideshow": {
     "slide_type": "subslide"
    }
   },
   "source": [
    "# Selecting and Filtering Data\n",
    "* Select columns you are interested in"
   ]
  },
  {
   "cell_type": "code",
   "execution_count": null,
   "metadata": {
    "collapsed": false,
    "slideshow": {
     "slide_type": "fragment"
    }
   },
   "outputs": [],
   "source": [
    "columns_you_want = ['start_date', 'end_date'] # specify columns you're interested in\n",
    "chosen_columns = trips[columns_you_want] # select the columns\n",
    "chosen_columns.head() # show first couple of lines of this new variable "
   ]
  },
  {
   "cell_type": "markdown",
   "metadata": {
    "slideshow": {
     "slide_type": "subslide"
    }
   },
   "source": [
    "Filter the data - let's get the data of all the millennials\n",
    "- eg. get the data of female: female = trips[trips.gender == 'Female']"
   ]
  },
  {
   "cell_type": "code",
   "execution_count": null,
   "metadata": {
    "collapsed": false,
    "slideshow": {
     "slide_type": "fragment"
    }
   },
   "outputs": [],
   "source": [
    "# TODO: filter the data and get all the millennials (born after 1982)\n",
    "# YOUR CODE HERE"
   ]
  },
  {
   "cell_type": "markdown",
   "metadata": {
    "slideshow": {
     "slide_type": "subslide"
    }
   },
   "source": [
    "# Split Data by Groups\n",
    "* [Split](https://pandas.pydata.org/pandas-docs/stable/groupby.html) bike trips by type of user (registered vs. casual)\n",
    "* Check out the [GroupBy function](https://jakevdp.github.io/PythonDataScienceHandbook/03.08-aggregation-and-grouping.html#GroupBy:-Split,-Apply,-Combine) from the Python Data Science Handbook"
   ]
  },
  {
   "cell_type": "code",
   "execution_count": null,
   "metadata": {
    "collapsed": false,
    "scrolled": true,
    "slideshow": {
     "slide_type": "fragment"
    }
   },
   "outputs": [],
   "source": [
    "# TODO: split the data into different user groups based on subsc_type and answer the following question\n",
    "# Q: Are the bike trips between registered and casual users different in duration?\n",
    "# YOUR CODE HERE"
   ]
  },
  {
   "cell_type": "markdown",
   "metadata": {
    "slideshow": {
     "slide_type": "subslide"
    }
   },
   "source": [
    "# Applying a Function\n",
    "* Apply a function to a column of a DataFrame\n",
    "* Let's transform start date to get a year of the rider when the bike was checked out"
   ]
  },
  {
   "cell_type": "code",
   "execution_count": null,
   "metadata": {
    "collapsed": true,
    "slideshow": {
     "slide_type": "fragment"
    }
   },
   "outputs": [],
   "source": [
    "def get_age(x):\n",
    "    \"\"\"\n",
    "    Calculate the age of the user.\n",
    "    x : birth date and start date in that order\n",
    "    \"\"\"\n",
    "    birthdate = x[0]\n",
    "    startdate = x[1]\n",
    "    # start date comes in the form of \"7/28/2011 10:12:00\"\n",
    "    # get just the year digits\n",
    "    check_out_year = int(startdate[-13:-9])\n",
    "    age = check_out_year - birthdate\n",
    "    return age"
   ]
  },
  {
   "cell_type": "code",
   "execution_count": null,
   "metadata": {
    "collapsed": false,
    "slideshow": {
     "slide_type": "fragment"
    }
   },
   "outputs": [],
   "source": [
    "trips['age'] = trips[['birth_date', 'start_date']].apply(get_age, axis=1)\n",
    "trips['age'].head()"
   ]
  },
  {
   "cell_type": "markdown",
   "metadata": {
    "slideshow": {
     "slide_type": "subslide"
    }
   },
   "source": [
    "# Join data from another dataset \n",
    "* Location (latitude and longitude) corresponsing to each bike station\n",
    "* DataFrame.join is a convenient method for combining the columns of two potentially differently-indexed DataFrames into a single result DataFrame\n",
    "* Check out the [join function](https://jakevdp.github.io/PythonDataScienceHandbook/03.07-merge-and-join.html#The-left_index-and-right_index-keywords) from the Python Data Science Handbook"
   ]
  },
  {
   "cell_type": "code",
   "execution_count": null,
   "metadata": {
    "collapsed": false,
    "slideshow": {
     "slide_type": "subslide"
    }
   },
   "outputs": [],
   "source": [
    "stations = pd.read_csv('hubway_stations.csv')[['id', 'lat', 'lng']]\n",
    "stations.head()"
   ]
  },
  {
   "cell_type": "code",
   "execution_count": null,
   "metadata": {
    "collapsed": false,
    "slideshow": {
     "slide_type": "subslide"
    }
   },
   "outputs": [],
   "source": [
    "# TODO: join the two datasets (stations and trips) by strt_statn\n",
    "# YOUR CODE HERE"
   ]
  },
  {
   "cell_type": "markdown",
   "metadata": {
    "slideshow": {
     "slide_type": "subslide"
    }
   },
   "source": [
    "# DATA VISUALIZATION\n",
    "* identify hidden patterns and trends\n",
    "* formulate hypothesis\n",
    "* determine best steps for modeling\n",
    "* communicate results"
   ]
  },
  {
   "cell_type": "markdown",
   "metadata": {
    "slideshow": {
     "slide_type": "subslide"
    }
   },
   "source": [
    "Let's explore users that only ride for a relatively short amount of time (less than 2 hours). We will also remove trips where some information about the trip is missing using [dropna() function](https://pandas.pydata.org/pandas-docs/stable/generated/pandas.DataFrame.dropna.html) to make plotting easier.\n",
    "\n",
    "In finance, it is standardized to use the [winsorize function](https://docs.scipy.org/doc/scipy-0.14.0/reference/generated/scipy.stats.mstats.winsorize.html) to remove outliers. "
   ]
  },
  {
   "cell_type": "code",
   "execution_count": null,
   "metadata": {
    "collapsed": false,
    "slideshow": {
     "slide_type": "fragment"
    }
   },
   "outputs": [],
   "source": [
    "# TODO: create a new dataset short_distance_trips for trips < 7200. Make sure to drop the missing values \n",
    "# YOUR CODE HERE"
   ]
  },
  {
   "cell_type": "markdown",
   "metadata": {
    "slideshow": {
     "slide_type": "subslide"
    }
   },
   "source": [
    "* Scatter plots - numerical data - useful for exploring correlations in data\n",
    "* Age vs. duration of bike trip \n",
    "* Experiment with [different dot size](https://stackoverflow.com/questions/14827650/pyplot-scatter-plot-marker-size) to make your plot readable\n",
    "* Check out the [scatter plot](https://jakevdp.github.io/PythonDataScienceHandbook/04.02-simple-scatter-plots.html) from the Python Data Science Handbook"
   ]
  },
  {
   "cell_type": "code",
   "execution_count": null,
   "metadata": {
    "collapsed": false,
    "slideshow": {
     "slide_type": "fragment"
    }
   },
   "outputs": [],
   "source": [
    "# TODO: make a scatter plot where x-axis is age and y-axis is duration \n",
    "# YOUR CODE HERE"
   ]
  },
  {
   "cell_type": "markdown",
   "metadata": {
    "slideshow": {
     "slide_type": "subslide"
    }
   },
   "source": [
    "* Histograms - distribution of the variable [doc](https://matplotlib.org/api/_as_gen/matplotlib.pyplot.hist.html)\n",
    "* Useful for identifying outliers, multi-modality\n",
    "* Annotate the plot with [legend](https://matplotlib.org/api/_as_gen/matplotlib.pyplot.legend.html)"
   ]
  },
  {
   "cell_type": "code",
   "execution_count": null,
   "metadata": {
    "collapsed": false,
    "slideshow": {
     "slide_type": "fragment"
    }
   },
   "outputs": [],
   "source": [
    "# TODO: make a histogram where x-axis is age and y-axis is frequency \n",
    "# Try different bin size (5, 10, 15, 20)\n",
    "\n",
    "# YOUR CODE HERE"
   ]
  },
  {
   "cell_type": "markdown",
   "metadata": {
    "slideshow": {
     "slide_type": "subslide"
    }
   },
   "source": [
    "* Bar plot - useful for categorical data\n",
    "* Let's [obtain counts](https://pandas.pydata.org/pandas-docs/stable/generated/pandas.Series.value_counts.html) of number of users by gender and plot them"
   ]
  },
  {
   "cell_type": "code",
   "execution_count": null,
   "metadata": {
    "collapsed": false,
    "slideshow": {
     "slide_type": "fragment"
    }
   },
   "outputs": [],
   "source": [
    "gender_counts = short_distance_trips['gender'].value_counts()\n",
    "gender_counts"
   ]
  },
  {
   "cell_type": "code",
   "execution_count": null,
   "metadata": {
    "collapsed": false,
    "slideshow": {
     "slide_type": "fragment"
    }
   },
   "outputs": [],
   "source": [
    "plt.bar(range(2), gender_counts, align='center', color=['gray', 'teal'])\n",
    "plt.xticks([0, 1], ['male', 'female'])\n",
    "plt.title('Users by Gender')"
   ]
  },
  {
   "cell_type": "markdown",
   "metadata": {
    "slideshow": {
     "slide_type": "subslide"
    }
   },
   "source": [
    "# DATA CLEANING\n",
    "* Wrong values\n",
    "* Messy format\n",
    "* Too many observations - do preliminary analysis on a subset of data\n",
    "* Missing data\n",
    "* Drop samples with problematic values\n",
    "* Use mean, median or most common value of the feature\n",
    "* Use a model to estimate the value\n",
    "* Data might not be missing at random"
   ]
  },
  {
   "cell_type": "markdown",
   "metadata": {
    "slideshow": {
     "slide_type": "subslide"
    }
   },
   "source": [
    "# Dropping missing values"
   ]
  },
  {
   "cell_type": "code",
   "execution_count": null,
   "metadata": {
    "collapsed": true,
    "slideshow": {
     "slide_type": "fragment"
    }
   },
   "outputs": [],
   "source": [
    "# TODO: first pass - drop the missing values of the trip dataset\n",
    "# YOUR CODE HERE"
   ]
  },
  {
   "cell_type": "markdown",
   "metadata": {
    "slideshow": {
     "slide_type": "subslide"
    }
   },
   "source": [
    "# Dropping wrong values\n",
    "* Explore outliers using histograms\n",
    "* Trip duration should be a positive number\n",
    "* Trip duration cannot be too long"
   ]
  },
  {
   "cell_type": "code",
   "execution_count": null,
   "metadata": {
    "collapsed": false,
    "slideshow": {
     "slide_type": "fragment"
    }
   },
   "outputs": [],
   "source": [
    "plt.hist(trips.duration.dropna())\n",
    "plt.xlabel('Duration')\n",
    "plt.ylabel('Frequency')"
   ]
  },
  {
   "cell_type": "code",
   "execution_count": null,
   "metadata": {
    "collapsed": false,
    "slideshow": {
     "slide_type": "subslide"
    }
   },
   "outputs": [],
   "source": [
    "print('Minimum duration = ', np.min(trips.duration))\n",
    "print('Maximum duration = ', np.max(trips.duration))"
   ]
  },
  {
   "cell_type": "markdown",
   "metadata": {
    "slideshow": {
     "slide_type": "fragment"
    }
   },
   "source": [
    "Currently the maximum trip duration is 11994458 seconds, which is approximately 138 days. Something must have gone wrong during the data recording process. The minimum trip duration is a negative value, which cannot occur. \n",
    "Let's filter data by duration:\n",
    "* Trip duration has to be positive and probably less than 8 hours (28800 seconds)"
   ]
  },
  {
   "cell_type": "code",
   "execution_count": null,
   "metadata": {
    "collapsed": false,
    "slideshow": {
     "slide_type": "fragment"
    }
   },
   "outputs": [],
   "source": [
    "# TODO: drop the wrong values and create a new dataset trips_clean\n",
    "# YOUR CODE HERE"
   ]
  },
  {
   "cell_type": "markdown",
   "metadata": {
    "slideshow": {
     "slide_type": "subslide"
    }
   },
   "source": [
    "We can check the histogram for duraton of our filtered dataset"
   ]
  },
  {
   "cell_type": "code",
   "execution_count": null,
   "metadata": {
    "collapsed": false,
    "slideshow": {
     "slide_type": "fragment"
    }
   },
   "outputs": [],
   "source": [
    "plt.hist(trips_clean.duration.dropna())\n",
    "plt.xlabel('Duration')\n",
    "plt.ylabel('Frequency')"
   ]
  },
  {
   "cell_type": "markdown",
   "metadata": {
    "slideshow": {
     "slide_type": "subslide"
    }
   },
   "source": [
    "# Filling in missing data with summary statistics\n",
    "* Impute missing data by replacing it with mean, median or the most frequent value\n",
    "* Most frequent value could be a good choice for categorical data\n",
    "* Imputation reduces variability within the dataset, which will impact your model's performance\n",
    "* Evaluate which imputation technique gives the best perfomance\n",
    "* Let's impute user's age and trip duration using the most frequent value\n",
    "* We will specify the parameters for the [imputer](http://scikit-learn.org/stable/modules/generated/sklearn.preprocessing.Imputer.html)\n",
    "* Fit the imputer (find most frequent value in this case) and transform the data accordingly\n"
   ]
  },
  {
   "cell_type": "markdown",
   "metadata": {
    "collapsed": true,
    "slideshow": {
     "slide_type": "notes"
    }
   },
   "source": [
    "## Checkpoint 1 \n"
   ]
  },
  {
   "cell_type": "code",
   "execution_count": null,
   "metadata": {
    "collapsed": true,
    "slideshow": {
     "slide_type": "fragment"
    }
   },
   "outputs": [],
   "source": [
    "imp = preprocessing.Imputer(missing_values='NaN', strategy='most_frequent') # specify the imputer\n",
    "# TODO: fill in the missing data in age and duration with summary statistics \n",
    "# YOUR CODE HERE"
   ]
  },
  {
   "cell_type": "markdown",
   "metadata": {
    "slideshow": {
     "slide_type": "subslide"
    }
   },
   "source": [
    "# Filling in missing data with k-nearest neighbors (k-NN)\n",
    "* Fit a model to the data that is not missing\n",
    "* Use the model to predict the values for missing data\n",
    "* k-NN finds $k$ samples closest in distance to the missing point and predicts the label from these closest points\n",
    "* k-NN classification: output is a category decided by majority vote of its $k$ neighbors\n",
    "* k-NN regression: output is the average of the values of its $k$ nearest neighbors\n",
    "* Weigh contribution of each point can be weighted by its distance from the point of interest\n",
    "* Distance metric matters, number of neighbors matters\n",
    "* Pick parameters that give you best performance on the final task"
   ]
  },
  {
   "cell_type": "code",
   "execution_count": null,
   "metadata": {
    "collapsed": false,
    "slideshow": {
     "slide_type": "subslide"
    }
   },
   "outputs": [],
   "source": [
    "Image(url='https://upload.wikimedia.org/wikipedia/commons/thumb/e/e7/KnnClassification.svg/220px-KnnClassification.svg.png', width= 300, height= 300)"
   ]
  },
  {
   "cell_type": "code",
   "execution_count": 4,
   "metadata": {
    "collapsed": false
   },
   "outputs": [
    {
     "data": {
      "text/plain": [
       "array([0.5])"
      ]
     },
     "execution_count": 4,
     "metadata": {},
     "output_type": "execute_result"
    }
   ],
   "source": [
    "# Example from sklearn\n",
    "X = [[0], [1], [2], [3]]\n",
    "y = [0, 0, 1, 1]\n",
    "neigh = neighbors.KNeighborsRegressor(n_neighbors=2)\n",
    "neigh.fit(X, y) \n",
    "neigh.predict([[1.5]])"
   ]
  },
  {
   "cell_type": "markdown",
   "metadata": {
    "slideshow": {
     "slide_type": "subslide"
    }
   },
   "source": [
    "We will use the duration column to impute missing birth dates.\n",
    "* **Please carefully read through the documentation to understand how to use [k-NN](http://scikit-learn.org/stable/modules/generated/sklearn.neighbors.KNeighborsClassifier.html) in sklearn**\n"
   ]
  },
  {
   "cell_type": "code",
   "execution_count": null,
   "metadata": {
    "collapsed": false,
    "slideshow": {
     "slide_type": "fragment"
    }
   },
   "outputs": [],
   "source": [
    "# TODO: create a k-NN model and use the duration column to impute birth dates\n",
    "# make sure to use the dataset where you dropped the missing value \n",
    "# YOUR CODE HERE"
   ]
  },
  {
   "cell_type": "code",
   "execution_count": null,
   "metadata": {
    "collapsed": true,
    "slideshow": {
     "slide_type": "fragment"
    }
   },
   "outputs": [],
   "source": [
    "# TODO: use the model you just created to predict the imputed_birthdates \n",
    "# YOUR CODE HERE"
   ]
  },
  {
   "cell_type": "code",
   "execution_count": null,
   "metadata": {
    "collapsed": false,
    "slideshow": {
     "slide_type": "fragment"
    }
   },
   "outputs": [],
   "source": [
    "# TODO: plot the histogram of the imputed_birthdates and check if it looks reasonable\n",
    "# YOUR CODE HERE"
   ]
  },
  {
   "cell_type": "markdown",
   "metadata": {
    "slideshow": {
     "slide_type": "subslide"
    }
   },
   "source": [
    "# FEATURE ENGINEERING\n",
    "* What is the question you are trying to answer\n",
    "* Creating new features that might correlate well with your prediction target\n",
    "* How to transform categorical data (male vs. female) to numerical"
   ]
  },
  {
   "cell_type": "markdown",
   "metadata": {
    "slideshow": {
     "slide_type": "subslide"
    }
   },
   "source": [
    "# Example: classify whether a trip was taken by a casual or registered user\n",
    "* What features might distinguish casual vs. registered users\n",
    "* Registered users probably use the bike on the regular basis to for example, to get to work\n",
    "* Registered users are likely using bikes around 9am and 5pm to get to and from work\n",
    "* Casual users might be more likely to rent a bike for city exploring, which might be in the afternoon\n",
    "* Let's engineer a create a new feature - the hour the bike was checked out"
   ]
  },
  {
   "cell_type": "code",
   "execution_count": null,
   "metadata": {
    "collapsed": true,
    "slideshow": {
     "slide_type": "fragment"
    }
   },
   "outputs": [],
   "source": [
    "def get_check_out_hours(s):\n",
    "    \"\"\"\n",
    "    Return the hour the bike was checked out.\n",
    "    s : date in form of 7/28/2011 10:12:00 or 11/30/2013 23:32:00\n",
    "    \"\"\"\n",
    "    # get just the hour digits\n",
    "    return int(s[-8:-6])"
   ]
  },
  {
   "cell_type": "code",
   "execution_count": null,
   "metadata": {
    "collapsed": false,
    "slideshow": {
     "slide_type": "subslide"
    }
   },
   "outputs": [],
   "source": [
    "trips['check_out_hour'] = trips['start_date'].apply(get_check_out_hours)\n",
    "plt.figure(figsize=(10, 5))\n",
    "check_out_counts = trips['check_out_hour'].dropna().value_counts()\n",
    "plt.bar(range(0,24), check_out_counts.loc[range(0,24)])\n",
    "plt.xticks(range(24))\n",
    "plt.xlabel('Hour of Day')\n",
    "plt.ylabel('Number of Checkouts')\n",
    "plt.title('Time of Day vs Checkouts')"
   ]
  },
  {
   "cell_type": "markdown",
   "metadata": {
    "slideshow": {
     "slide_type": "subslide"
    }
   },
   "source": [
    "Let's check our hypothesis by splitting the data into trips by subscription type, counting the number of checkouts corresponding to each hour and plotting a bar chart."
   ]
  },
  {
   "cell_type": "code",
   "execution_count": null,
   "metadata": {
    "collapsed": true,
    "slideshow": {
     "slide_type": "fragment"
    }
   },
   "outputs": [],
   "source": [
    "grouped = trips.groupby('subsc_type') # split data by subscription type\n",
    "counts_by_group = grouped['check_out_hour'].value_counts()"
   ]
  },
  {
   "cell_type": "code",
   "execution_count": null,
   "metadata": {
    "collapsed": false,
    "slideshow": {
     "slide_type": "fragment"
    }
   },
   "outputs": [],
   "source": [
    "plt.figure(figsize=(10, 5))\n",
    "plt.bar(range(0,24), counts_by_group['Registered'].loc[range(0,24)], alpha = 0.5, label = 'Registered')\n",
    "plt.bar(range(0,24), counts_by_group['Casual'].loc[range(0,24)], alpha = 0.5, label = 'Casual')\n",
    "plt.xticks(range(24))\n",
    "plt.legend()\n",
    "plt.xlabel('Hour of Day')\n",
    "plt.ylabel('Number of Checkouts')\n",
    "plt.title('Time of Day vs Checkouts')"
   ]
  },
  {
   "cell_type": "markdown",
   "metadata": {
    "slideshow": {
     "slide_type": "subslide"
    }
   },
   "source": [
    "# One-hot encoding\n",
    "* One-hot encoding is a representation of categorical variables as binary vectors\n",
    "* Could use integers to denote different categories\n",
    "* However categories will then be ordered, which is often not desired\n",
    "* Solution: one-hot encoding"
   ]
  },
  {
   "cell_type": "code",
   "execution_count": null,
   "metadata": {
    "collapsed": false,
    "scrolled": true,
    "slideshow": {
     "slide_type": "fragment"
    }
   },
   "outputs": [],
   "source": [
    "Image(url='https://i.stack.imgur.com/mfsNd.png', width = 900, height = 500)"
   ]
  },
  {
   "cell_type": "markdown",
   "metadata": {
    "slideshow": {
     "slide_type": "subslide"
    }
   },
   "source": [
    "Let's see how one-hot encoding works on the gender variable. First we will transform the categories \"Male\", \"Female\" and \"NaN\" to integers 0, 1, 2. Usually one would either impute or remove missing values, however in some cases the pattern of missing values might give you valuable insights and thus you can treat them as a separate category. The pattern of missing values for gender is probably not meaningful in this case, but for the sake of example, we will treat \"NaN\"s as another category."
   ]
  },
  {
   "cell_type": "code",
   "execution_count": null,
   "metadata": {
    "collapsed": false,
    "slideshow": {
     "slide_type": "fragment"
    }
   },
   "outputs": [],
   "source": [
    "trips['gender'] = trips['gender'].fillna('None') # replace nans by another name so that python doesn't recognize it as a nan\n",
    "le = preprocessing.LabelEncoder() # specify paramets for encoder\n",
    "trips['gender'] = le.fit_transform(trips['gender']) # fit the model and transform the gender variable\n",
    "trips.head(15) # number in paranthesis specifies the numbers of lines to show"
   ]
  },
  {
   "cell_type": "markdown",
   "metadata": {
    "slideshow": {
     "slide_type": "subslide"
    }
   },
   "source": [
    "Now we will encode integer categories 0, 1, and 2 as one-hot vectors."
   ]
  },
  {
   "cell_type": "code",
   "execution_count": null,
   "metadata": {
    "collapsed": false,
    "slideshow": {
     "slide_type": "fragment"
    }
   },
   "outputs": [],
   "source": [
    "# TODO: turn the gender column into one-hot vectors \n",
    "enc = preprocessing.OneHotEncoder()\n",
    "# YOUR CODE HERE"
   ]
  },
  {
   "cell_type": "markdown",
   "metadata": {
    "slideshow": {
     "slide_type": "subslide"
    }
   },
   "source": [
    "# FEATURE NORMALIZATION\n",
    "* Range of values for each feature might vary dramatically\n",
    "* Often in machine learning it is critical to rescale or standardize features before fitting a model\n",
    "* Example: if a classifier is computing a distance between two points\n",
    "    * If one of the features has a broad range of values, the distance will be dominated by this particular feature\n",
    "    * Normalize each feature to be within the same range so that each feature contributes approximately proportionately to the final distance\n",
    "* Some algorithms such as gradient descent converge much faster with feature normalization\n",
    "* Standardization $$x_{new} = \\frac{x - \\bar{x}}{\\sigma}$$\n",
    "* Rescaling $$x_{new} = \\frac{x - \\min(x)}{\\max(x) - \\min(x)}$$"
   ]
  },
  {
   "cell_type": "code",
   "execution_count": null,
   "metadata": {
    "collapsed": false,
    "slideshow": {
     "slide_type": "subslide"
    }
   },
   "outputs": [],
   "source": [
    "Image(url='http://scikit-learn.org/stable/_images/sphx_glr_plot_scaling_importance_001.png', width = 900, height = 500)"
   ]
  },
  {
   "cell_type": "markdown",
   "metadata": {
    "collapsed": true,
    "slideshow": {
     "slide_type": "subslide"
    }
   },
   "source": [
    "Let's standardize the duration, birth date and age variables"
   ]
  },
  {
   "cell_type": "code",
   "execution_count": null,
   "metadata": {
    "collapsed": false,
    "slideshow": {
     "slide_type": "fragment"
    }
   },
   "outputs": [],
   "source": [
    "# TODO: standardize the duration, birth data, and age - make sure it looks fine \n",
    "# YOUR CODE HERE"
   ]
  },
  {
   "cell_type": "markdown",
   "metadata": {
    "slideshow": {
     "slide_type": "slide"
    }
   },
   "source": [
    "## Congrats, you are done!"
   ]
  }
 ],
 "metadata": {
  "anaconda-cloud": {},
  "celltoolbar": "Slideshow",
  "kernelspec": {
   "display_name": "Python 3",
   "language": "python",
   "name": "python3"
  },
  "language_info": {
   "codemirror_mode": {
    "name": "ipython",
    "version": 3
   },
   "file_extension": ".py",
   "mimetype": "text/x-python",
   "name": "python",
   "nbconvert_exporter": "python",
   "pygments_lexer": "ipython3",
   "version": "3.5.2"
  }
 },
 "nbformat": 4,
 "nbformat_minor": 2
}
