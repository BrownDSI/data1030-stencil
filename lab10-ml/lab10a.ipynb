{
 "cells": [
  {
   "cell_type": "markdown",
   "metadata": {},
   "source": [
    "## Lab 10a\n",
    "## Contents\n",
    "* Part 1: Machine learning using scikit-learn\n",
    "* Part 2: Getting started in scikit-learn with the iris dataset\n",
    "* Part 3: Training a machine learning model with scikit-learn\n",
    "* Part 4: Comparing machine learning models in scikit-learn"
   ]
  },
  {
   "cell_type": "markdown",
   "metadata": {},
   "source": [
    "## Part 1: Scikit-learn Overview\n",
    "* What are the benefits and drawbacks of scikit-learn?\n",
    "* How is scikit-learn organized?\n",
    "* What methods should be used for a particular problem?\n",
    "* Read more about [how scikit-learn is organized](http://scikit-learn.org/stable/index.html)\n"
   ]
  },
  {
   "cell_type": "markdown",
   "metadata": {},
   "source": [
    "**Benefits:**\n",
    "* Consistent interface to machine learning models\n",
    "* Provides many tuning parameters but with sensible defaults\n",
    "* Exceptional documentation\n",
    "* Rich set of functionality for companion tasks\n",
    "* Active community for development and support\n",
    "\n",
    "**Potential drawbacks:**\n",
    "* Harder (than R) to get started with machine learning\n",
    "* Less emphasis (than R) on model interpretability"
   ]
  },
  {
   "cell_type": "markdown",
   "metadata": {},
   "source": [
    "## Part 2: Getting started with the Iris Dataset\n",
    "* 50 samples of 3 different species of iris (150 samples total)\n",
    "* Measurements: sepal length, sepal width, petal length, petal width\n",
    "* Famous dataset for machine learning because prediction is easy\n",
    "* Learn more about the iris dataset: [UCI Machine Learning Repository](http://archive.ics.uci.edu/ml/datasets/Iris)"
   ]
  },
  {
   "cell_type": "markdown",
   "metadata": {},
   "source": [
    "### Import required modules and load data file"
   ]
  },
  {
   "cell_type": "code",
   "execution_count": null,
   "metadata": {
    "collapsed": true
   },
   "outputs": [],
   "source": [
    "import numpy as np\n",
    "import matplotlib.pyplot as plt\n",
    "import pandas as pd\n",
    "from sklearn.datasets import load_iris\n",
    "from sklearn.model_selection import train_test_split\n",
    "\n",
    "# import iris dataset from sklearn\n",
    "# Can also use pd.read_table to load another dataset of your choice\n",
    "iris = load_iris()"
   ]
  },
  {
   "cell_type": "code",
   "execution_count": null,
   "metadata": {
    "collapsed": false
   },
   "outputs": [],
   "source": [
    "# create X (features) and y (response)\n",
    "X = iris.data  # only take the first two features\n",
    "y = iris.target\n",
    "\n",
    "# create Pandas DataFrame from a Numpy array \n",
    "pd_X = pd.DataFrame(X)\n",
    "pd_y = pd.DataFrame(y)\n",
    "\n",
    "# you can view the Pandas DataFrame of pd_X and pd_y with head()\n",
    "\n",
    "# create a lookup table for later testing\n",
    "lookup_iris_name = list(zip(X, y))\n",
    "lookup_iris_name\n"
   ]
  },
  {
   "cell_type": "markdown",
   "metadata": {},
   "source": [
    "This iris dataset consists of 3 different types of irises’ (Setosa, Versicolour, and Virginica) petal and sepal length, stored in a 150x4 numpy.ndarray. \n",
    "\n",
    "[Scikit Documentation] (http://scikit-learn.org/stable/auto_examples/datasets/plot_iris_dataset.html)"
   ]
  },
  {
   "cell_type": "markdown",
   "metadata": {},
   "source": [
    "### Plot the Iris Dataset"
   ]
  },
  {
   "cell_type": "code",
   "execution_count": null,
   "metadata": {
    "collapsed": true
   },
   "outputs": [],
   "source": [
    "# Choose two features from X and plot in a scatter plot "
   ]
  },
  {
   "cell_type": "markdown",
   "metadata": {},
   "source": [
    "### Split dataset into testing and training data"
   ]
  },
  {
   "cell_type": "code",
   "execution_count": null,
   "metadata": {
    "collapsed": true
   },
   "outputs": [],
   "source": [
    "# Use train_test_split for X_train, X_test, y_train, y_test\n",
    "# YOUR CODE HERE"
   ]
  },
  {
   "cell_type": "markdown",
   "metadata": {},
   "source": [
    "## Part 3: Training a machine learning model with scikit-learn\n",
    "### KNeighbors from sklearn in 4-step"
   ]
  },
  {
   "cell_type": "code",
   "execution_count": null,
   "metadata": {
    "collapsed": false
   },
   "outputs": [],
   "source": [
    "# Step 1: Import the estimator class you plan to use\n",
    "from sklearn.neighbors import KNeighborsClassifier\n",
    "\n",
    "# Step 2: Instantiate the estimator KNeighborsClassifier\n",
    "# Optional: specify tuning parameters (aka \"hyperparameters\") during this step\n",
    "# YOUR CODE HERE\n",
    "\n",
    "# Step 3: Train the classifier (fit the estimator) with the training data\n",
    "# YOUR CODE HERE\n",
    "\n",
    "# Step 4: Estimate the accuracy of the classifier on future data, using the test data\n",
    "# YOUR CODE HERE"
   ]
  },
  {
   "cell_type": "markdown",
   "metadata": {},
   "source": [
    "### Use the trained k-NN classifier model to classify new, previously unseen objects"
   ]
  },
  {
   "cell_type": "code",
   "execution_count": null,
   "metadata": {
    "collapsed": false
   },
   "outputs": [],
   "source": [
    "# predict with an arbitrary set of weights assigned to the four attributes in Iris  \n",
    "# feel free to try changing the weights \n",
    "iris_prediction = knn.predict([[20, 4.3, 1, 2], [1, 4.3, 1, 2]])\n",
    "iris_prediction"
   ]
  },
  {
   "cell_type": "markdown",
   "metadata": {},
   "source": [
    "### How sensitive is k-NN classification accuracy to the choice of the 'k' parameter?"
   ]
  },
  {
   "cell_type": "code",
   "execution_count": null,
   "metadata": {
    "collapsed": false
   },
   "outputs": [],
   "source": [
    "k_range = range(1,20)\n",
    "# plot the accuracy score for each 'k' neighbors from 1 to 20 \n",
    "# YOUR CODE HERE\n"
   ]
  },
  {
   "cell_type": "markdown",
   "metadata": {},
   "source": [
    "### Checkpoint: How sensitive is k-NN classification accuracy to the train/test split proportion?"
   ]
  },
  {
   "cell_type": "code",
   "execution_count": null,
   "metadata": {
    "collapsed": false
   },
   "outputs": [],
   "source": [
    "tt_split_proportions = [0.8, 0.7, 0.6, 0.5, 0.4, 0.3, 0.2]\n",
    "\n",
    "knn = KNeighborsClassifier(n_neighbors = 5)\n",
    "# plot the accuracy score for each split_proportion from 0.2 to 0.8\n",
    "# YOUR CODE HERE"
   ]
  },
  {
   "cell_type": "markdown",
   "metadata": {},
   "source": [
    "## Part 4: Comparing machine learning models in scikit-learn\n",
    "We have the first two steps given to you when applying this pattern to another machine learning model -- Logistic Regression (aka logit, MaxEnt) classifier.\n",
    "\n",
    "Please fill in the next two steps.\n",
    "\n",
    "Please check the [reference for Logistic regression](http://scikit-learn.org/stable/modules/linear_model.html#logistic-regression) and [documentation](http://scikit-learn.org/stable/modules/generated/sklearn.linear_model.LogisticRegression.html)\n"
   ]
  },
  {
   "cell_type": "code",
   "execution_count": null,
   "metadata": {
    "collapsed": false
   },
   "outputs": [],
   "source": [
    "# import the class\n",
    "from sklearn.linear_model import LogisticRegression\n",
    "# Note: despite it's name LogisticRegression is used for classification\n",
    "\n",
    "# instantiate the model (using the default parameters)\n",
    "logreg = LogisticRegression()\n",
    "\n",
    "# fit the model with data\n",
    "# YOUR CODE HERE\n",
    "\n",
    "# predict the response for new observations\n",
    "# YOUR CODE HERE"
   ]
  },
  {
   "cell_type": "markdown",
   "metadata": {},
   "source": [
    "Now you might have the following questions\n",
    "* How do I choose which model to use for my supervised learning task?\n",
    "* How do I choose the best tuning parameters for that model?\n",
    "* How do I estimate the likely performance of my model on out-of-sample data?\n",
    "Let's review what we've learned so far in this lab\n",
    "* Classification task: Predicting the species of an unknown iris\n",
    "* Used three classification models: KNN (K=1), KNN (K=5), logistic regression\n",
    "* Need a way to choose between the models\n",
    "\n",
    "So our next topic is: Model evaluation procedures. It's a [big topic](http://scikit-learn.org/stable/model_selection.html#model-selection), but we'll start at the beginning.¶\n"
   ]
  },
  {
   "cell_type": "markdown",
   "metadata": {},
   "source": [
    "### 4.1 Evaluation procedure #1: Train and test on the entire dataset\n",
    "1. Train the model on the entire dataset.\n",
    "\n",
    "2. Test the model on the same dataset, and evaluate how well we did by comparing the predicted response values with the true response values."
   ]
  },
  {
   "cell_type": "code",
   "execution_count": null,
   "metadata": {
    "collapsed": true
   },
   "outputs": [],
   "source": [
    "assert (X == iris.data).all()  # if these statement fail, rerun your notebook\n",
    "assert (y == iris.target).all()"
   ]
  },
  {
   "cell_type": "code",
   "execution_count": null,
   "metadata": {
    "collapsed": false
   },
   "outputs": [],
   "source": [
    "# Logistic regression¶\n",
    "\n",
    "# import the class\n",
    "from sklearn.linear_model import LogisticRegression\n",
    "\n",
    "# instantiate the model (using the default parameters)\n",
    "logreg = LogisticRegression()\n",
    "\n",
    "# fit the model with data\n",
    "logreg.fit(X, y)\n",
    "\n",
    "# predict the response values for the observations in X\n",
    "logreg.predict(X)"
   ]
  },
  {
   "cell_type": "code",
   "execution_count": null,
   "metadata": {
    "collapsed": false
   },
   "outputs": [],
   "source": [
    "# store the predicted response values\n",
    "y_pred = logreg.predict(X)\n",
    "\n",
    "# check how many predictions were generated\n",
    "len(y_pred)"
   ]
  },
  {
   "cell_type": "markdown",
   "metadata": {},
   "source": [
    "Classification accuracy:\n",
    "\n",
    "* Proportion of correct predictions\n",
    "* Common evaluation metric for classification problems"
   ]
  },
  {
   "cell_type": "code",
   "execution_count": null,
   "metadata": {
    "collapsed": false
   },
   "outputs": [],
   "source": [
    "# Compute the accuracy of your logreg classifier on the training data\n",
    "# YOUR CODE HERE"
   ]
  },
  {
   "cell_type": "markdown",
   "metadata": {},
   "source": [
    "This quantity is known as training accuracy.\n",
    "\n",
    "Computing accuracy and other machine learning metrics is such a common task sklean has a whole module sklearn.metrics dedicated to this task. Below is an example of using it to compute the accuracy of y_pred versus y."
   ]
  },
  {
   "cell_type": "code",
   "execution_count": null,
   "metadata": {
    "collapsed": false
   },
   "outputs": [],
   "source": [
    "# compute classification accuracy for the logistic regression model\n",
    "from sklearn import metrics\n",
    "print(metrics.accuracy_score(y, y_pred))"
   ]
  },
  {
   "cell_type": "markdown",
   "metadata": {},
   "source": [
    "Below we compute the accuracy of both the K=5 and K=1 KNN-Classifiers discussed earlier.\n",
    "\n"
   ]
  },
  {
   "cell_type": "code",
   "execution_count": null,
   "metadata": {
    "collapsed": false
   },
   "outputs": [],
   "source": [
    "# KNN (K=5)\n",
    "from sklearn.neighbors import KNeighborsClassifier\n",
    "knn = KNeighborsClassifier(n_neighbors=5)\n",
    "knn.fit(X, y)\n",
    "y_pred = knn.predict(X)\n",
    "print(metrics.accuracy_score(y, y_pred))"
   ]
  },
  {
   "cell_type": "code",
   "execution_count": null,
   "metadata": {
    "collapsed": false
   },
   "outputs": [],
   "source": [
    "# KNN (K=1)\n",
    "knn = KNeighborsClassifier(n_neighbors=1)\n",
    "knn.fit(X, y)\n",
    "y_pred = knn.predict(X)\n",
    "print(metrics.accuracy_score(y, y_pred))"
   ]
  },
  {
   "cell_type": "code",
   "execution_count": null,
   "metadata": {
    "collapsed": true
   },
   "outputs": [],
   "source": [
    "# Explain why does K=1 has an accuracy of 1.0?\n",
    "# YOUR CODE HERE"
   ]
  },
  {
   "cell_type": "markdown",
   "metadata": {},
   "source": [
    "Congrats, you're done!"
   ]
  }
 ],
 "metadata": {
  "anaconda-cloud": {},
  "kernelspec": {
   "display_name": "Python 3",
   "language": "python",
   "name": "python3"
  },
  "language_info": {
   "codemirror_mode": {
    "name": "ipython",
    "version": 3
   },
   "file_extension": ".py",
   "mimetype": "text/x-python",
   "name": "python",
   "nbconvert_exporter": "python",
   "pygments_lexer": "ipython3",
   "version": "3.5.2"
  }
 },
 "nbformat": 4,
 "nbformat_minor": 1
}
