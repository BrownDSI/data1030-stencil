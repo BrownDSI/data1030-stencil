{
 "cells": [
  {
   "cell_type": "markdown",
   "metadata": {
    "nbgrader": {
     "grade": false,
     "grade_id": "cell-463c5c889460b7d4",
     "locked": true,
     "schema_version": 1,
     "solution": false
    }
   },
   "source": [
    "# Introduction to Git, Jupyter and Pandas\n",
    "\n",
    "\n",
    "## Today's Goals:\n",
    "\n",
    "* Familiarize yourself with Jupyter Notebook and _pandas_\n",
    "* Practice thinking like a data scientist\n",
    "\n",
    "## Motivation\n",
    "\n",
    "Nearly all data science teams use or have used Jupyter Notebook. In addition, _pandas_ is the go-to Python library for exploratory data analysis and data preparation. As it is nearly impossible to avoid these tools as a data scientist using Python, it will pay off to master them early on.\n",
    "\n",
    "If you are already familiar with these tools, think of this lab as practice. It is hard to maintain a high level of proficiency with Jupyter and _pandas_ without a decent time commitment.\n",
    "\n",
    "While the above practical skills are useful, it is important to note that the biggest problems data science teams face are often non-technical in nature. Uninformed stakeholders, poorly chosen use-cases of data science, and bad managers damage data science teams much more than a junior data scientist's lack of ML expertise. Since our course is the CS course of this program, we will not discuss this much. However, we do hope that you think about such issues frequently (especially in this course's projects).\n",
    " \n",
    "## Outcomes\n",
    "\n",
    "By the end of this lab, you will have the basic skillset needed to do exploratory data analysis with Python. You will be able to load, visualize, and transform data with _pandas_. In addition you will be able to share your own code, comments, and visualizations with others through Jupyter Notebook.\n",
    "\n",
    "## Grading\n",
    "\n",
    "You should get checked-off by a TA at the end of the lab."
   ]
  },
  {
   "cell_type": "markdown",
   "metadata": {
    "nbgrader": {
     "grade": false,
     "grade_id": "cell-744917df3b3f059d",
     "locked": true,
     "schema_version": 1,
     "solution": false
    }
   },
   "source": [
    "## Part 0: Preliminaries \n",
    "You should have already used the [DATA 1030 Software Setup Guide](https://docs.google.com/a/brown.edu/document/d/1-be-XHwFqKFYyOXjDbW6WAiG8OERUl_nYNmYqVWzn1o/edit?usp=sharing) to install Anaconda, Python and git."
   ]
  },
  {
   "cell_type": "markdown",
   "metadata": {
    "nbgrader": {
     "grade": false,
     "grade_id": "cell-45410a0be0f29bf4",
     "locked": true,
     "schema_version": 1,
     "solution": false
    }
   },
   "source": [
    "### 0.1: Getting started with Jupyter Notebook\n",
    "\n",
    "PyCharm has a simplified notebook UI built in. We recommend you use this for now.\n",
    "\n",
    "The green \"run\" button runs a cell. A cell delineated by an outlined rectangle."
   ]
  },
  {
   "cell_type": "markdown",
   "metadata": {
    "nbgrader": {
     "grade": false,
     "grade_id": "cell-6878865658774ef3",
     "locked": true,
     "schema_version": 1,
     "solution": false
    }
   },
   "source": [
    "## Part 1: Exploring Data with DataFrames\n",
    "\n",
    "Run the cell below by first clicking on the cell below, and the clicking the run button (>|) on the toolbar above. You should click cancel and then link in the yellow pop-up.\n",
    "\n",
    "\n",
    "See [this Jetbrains article](https://www.jetbrains.com/help/pycharm/using-ipython-notebook-with-product.html#run-cell) for exact instructions on how to run the notebook.\n",
    "\n",
    "When done, you should see \"Hello World!\" just below the code."
   ]
  },
  {
   "cell_type": "code",
   "execution_count": null,
   "metadata": {
    "nbgrader": {
     "grade": false,
     "grade_id": "cell-da036e6f2b1a9761",
     "locked": true,
     "schema_version": 1,
     "solution": false
    }
   },
   "outputs": [],
   "source": [
    "print(\"Hello World!\")"
   ]
  },
  {
   "cell_type": "markdown",
   "metadata": {
    "nbgrader": {
     "grade": false,
     "grade_id": "cell-8ba97fa6cfaa7427",
     "locked": true,
     "schema_version": 1,
     "solution": false
    },
    "raw_mimetype": "text/markdown"
   },
   "source": [
    "### 1.0 Contextualizing data\n",
    "\n",
    "The first dataset we will be looking at relates to youth unemployment. We originally downloaded this data from  [Kaggle.com](https://www.kaggle.com/sovannt/world-bank-youth-unemployment) and scroll down to the dataset description for more details. \n",
    "\n",
    "__Task 0:__ Discuss the following questions with your partner:\n",
    "\n",
    "- What is the World Bank's definition of youth?\n",
    "- What years are we looking at?\n",
    "- How was the data collected?\n",
    "\n",
    "### 1.1 Reading data\n",
    "\n",
    "Data is often stored in comma-separated values (CSV) files. We have provided the unemployment data into the file `API_ILO_country_YU.csv` for you.\n",
    "\n",
    "To read a CSV file called `my_data.csv` with into a dataframe variable called `df` using pandas we would run the following command\n",
    "```\n",
    "df = pandas.read_csv('my_data.csv')\n",
    "```\n",
    "\n",
    "__Task 1:__ Load the unemployment data in the above file to a variable called `df` below. If no error shows up, your DataFrame should have loaded."
   ]
  },
  {
   "cell_type": "code",
   "execution_count": null,
   "metadata": {
    "ExecuteTime": {
     "end_time": "2018-09-03T22:37:25.327021Z",
     "start_time": "2018-09-03T22:37:24.616869Z"
    },
    "nbgrader": {
     "grade": true,
     "grade_id": "cell-4d6ca01abde093d1",
     "locked": false,
     "points": 0,
     "schema_version": 1,
     "solution": true
    }
   },
   "outputs": [],
   "source": [
    "import pandas\n",
    "# TASK 1\n",
    "# YOUR CODE HERE"
   ]
  },
  {
   "cell_type": "markdown",
   "metadata": {
    "nbgrader": {
     "grade": false,
     "grade_id": "cell-d2d9d36323e8edeb",
     "locked": true,
     "schema_version": 1,
     "solution": false
    }
   },
   "source": [
    "### 1.2 Viewing data\n",
    "\n",
    "Run each of these `DataFrame` methods in the cell below.\n",
    "\n",
    "    df\n",
    "    df.columns\n",
    "    df.head()\n",
    "    df.head(10)\n",
    "    df.tail(4)\n",
    "    df.nlargest(5, '2014')\n",
    "    df.nsmallest(8, '2011')\n",
    "    \n",
    "What get printed if you run 2 expressions in the same block?"
   ]
  },
  {
   "cell_type": "code",
   "execution_count": null,
   "metadata": {
    "ExecuteTime": {
     "end_time": "2018-09-03T22:37:27.730798Z",
     "start_time": "2018-09-03T22:37:27.685120Z"
    },
    "nbgrader": {
     "grade": true,
     "grade_id": "cell-97fab88d45eccfc4",
     "locked": false,
     "points": 0,
     "schema_version": 1,
     "solution": true
    },
    "scrolled": false
   },
   "outputs": [],
   "source": [
    "# Run the methods here\n",
    "df"
   ]
  },
  {
   "cell_type": "markdown",
   "metadata": {
    "nbgrader": {
     "grade": false,
     "grade_id": "cell-371e2fffe4339ded",
     "locked": true,
     "schema_version": 1,
     "solution": false
    }
   },
   "source": [
    "Complete the following task.\n",
    "\n",
    "__Task 2:__ Show the 12 countries with the highest unemployment rates in 2013."
   ]
  },
  {
   "cell_type": "code",
   "execution_count": null,
   "metadata": {
    "ExecuteTime": {
     "end_time": "2018-09-03T22:37:33.024669Z",
     "start_time": "2018-09-03T22:37:33.002983Z"
    },
    "nbgrader": {
     "grade": true,
     "grade_id": "cell-6eb9ad6f31429bee",
     "locked": false,
     "points": 0,
     "schema_version": 1,
     "solution": true
    },
    "scrolled": true
   },
   "outputs": [],
   "source": [
    "# TASK 2\n",
    "# YOUR CODE HERE"
   ]
  },
  {
   "cell_type": "markdown",
   "metadata": {
    "nbgrader": {
     "grade": false,
     "grade_id": "cell-5ca284a6794c553d",
     "locked": true,
     "schema_version": 1,
     "solution": false
    }
   },
   "source": [
    "### 1.3 Transforming data\n",
    "\n",
    "With DataFrames, we can also select\n",
    "rows and columns. What do the following expressions\n",
    "evaluate to?\n",
    "\n",
    "#### Column selection:\n",
    "    \n",
    "    df['2010']\n",
    "    df[['Country Name', '2011', '2012']]\n",
    "    df.iloc[:, 3] # Gets all the rows in the 4th column\n",
    "    df.iloc[:, 2:5]\n",
    "    \n",
    "#### Row selection:\n",
    "    \n",
    "    df.iloc[191] # Gets the 192nd row\n",
    "    df.iloc[2:10]\n",
    "    df[df['2010'] > 40]\n",
    "    \n",
    "#### Combinations:\n",
    "\n",
    "    df.iloc[12:14, 0:4]\n",
    "    df[['Country Name', '2011', '2012']][df['2012'] < 10]\n",
    "    df[df['2012'] < 10].iloc[1:3, 2:5]"
   ]
  },
  {
   "cell_type": "code",
   "execution_count": null,
   "metadata": {
    "ExecuteTime": {
     "end_time": "2018-09-03T22:38:04.317855Z",
     "start_time": "2018-09-03T22:38:04.309738Z"
    },
    "nbgrader": {
     "grade": true,
     "grade_id": "cell-601c068bccd21ddd",
     "locked": false,
     "points": 0,
     "schema_version": 1,
     "solution": true
    },
    "scrolled": true
   },
   "outputs": [],
   "source": [
    "# Run the expressions here\n",
    "df['2010']"
   ]
  },
  {
   "cell_type": "markdown",
   "metadata": {
    "nbgrader": {
     "grade": false,
     "grade_id": "cell-9b42e843dc7c7b9b",
     "locked": true,
     "schema_version": 1,
     "solution": false
    }
   },
   "source": [
    "__Task 3:__ Show the `Country Name` and `Country Code` of all countries where\n",
    "\n",
    "* the 2010 unemployment rate is higher than the 2014 unemployment rate, and\n",
    "* the 2014 unemployment rate is above 20%"
   ]
  },
  {
   "cell_type": "code",
   "execution_count": null,
   "metadata": {
    "ExecuteTime": {
     "end_time": "2018-09-03T22:39:14.490501Z",
     "start_time": "2018-09-03T22:39:14.469243Z"
    },
    "nbgrader": {
     "grade": true,
     "grade_id": "cell-b4a15d9099e5b78b",
     "locked": false,
     "points": 0,
     "schema_version": 1,
     "solution": true
    }
   },
   "outputs": [],
   "source": [
    "# TASK 3\n",
    "# YOUR CODE HERE"
   ]
  },
  {
   "cell_type": "markdown",
   "metadata": {
    "nbgrader": {
     "grade": false,
     "grade_id": "cell-37805ad1a707bcf1",
     "locked": true,
     "schema_version": 1,
     "solution": false
    }
   },
   "source": [
    "Now it is time to see more powerful features of DataFrames.\n",
    "You can add, subtract, multiply, and divide columns as shown below\n",
    "\n",
    "`df['2010'] + df['2012']`\n",
    "\n",
    "You can easily add a new column to the dataframe called using the following syntax:\n",
    "\n",
    "`df['new_col'] = df['2010'] + df['2012'] # add a column to df called new_col`\n",
    "\n",
    "__Task 4:__ Display the names of the 10 countries with the largest percent decrease in unemployment between 2011 and 2012."
   ]
  },
  {
   "cell_type": "code",
   "execution_count": null,
   "metadata": {
    "ExecuteTime": {
     "end_time": "2018-09-03T22:48:39.734590Z",
     "start_time": "2018-09-03T22:48:39.712740Z"
    },
    "nbgrader": {
     "grade": true,
     "grade_id": "cell-f077052c551ba443",
     "locked": false,
     "points": 0,
     "schema_version": 1,
     "solution": true
    },
    "scrolled": true
   },
   "outputs": [],
   "source": [
    "# TASK 4\n",
    "# YOUR CODE HERE"
   ]
  },
  {
   "cell_type": "markdown",
   "metadata": {
    "nbgrader": {
     "grade": false,
     "grade_id": "cell-5bc2840af935ee54",
     "locked": true,
     "schema_version": 1,
     "solution": false
    }
   },
   "source": [
    "### 1.4 Visualizing data\n",
    "\n",
    "Let's make some graphs to visualize and better understand the data. Run the code block below.  Notebook commands that start with % are called \"magic\" commands.  Make sure to run the \"magic\" %matplotlib command below in future labs so your visualizations show up in the browser. More magic commands are listed [here](http://ipython.readthedocs.io/en/stable/interactive/magics.html)."
   ]
  },
  {
   "cell_type": "code",
   "execution_count": null,
   "metadata": {
    "ExecuteTime": {
     "end_time": "2018-09-03T22:40:57.179352Z",
     "start_time": "2018-09-03T22:40:52.219448Z"
    },
    "nbgrader": {
     "grade": false,
     "grade_id": "cell-4e7ba363af0cebd7",
     "locked": true,
     "schema_version": 1,
     "solution": false
    }
   },
   "outputs": [],
   "source": [
    "% matplotlib inline\n",
    "\n",
    "df.plot(kind='bar')"
   ]
  },
  {
   "cell_type": "markdown",
   "metadata": {
    "nbgrader": {
     "grade": false,
     "grade_id": "cell-335784ab93847746",
     "locked": true,
     "schema_version": 1,
     "solution": false
    }
   },
   "source": [
    "__Task 5:__ There are too many rows being graphed. In a new bar chart below, show only the first 10 countries and label the x-axis by country name.\n",
    "\n",
    "Read [`pandas.DataFrame.plot`](https://pandas.pydata.org/pandas-docs/stable/generated/pandas.DataFrame.plot.html)\n",
    "for information on how to do the above task."
   ]
  },
  {
   "cell_type": "code",
   "execution_count": null,
   "metadata": {
    "ExecuteTime": {
     "end_time": "2018-09-03T22:54:23.570628Z",
     "start_time": "2018-09-03T22:54:23.106090Z"
    },
    "nbgrader": {
     "grade": true,
     "grade_id": "cell-4bc553bc304deeeb",
     "locked": false,
     "points": 0,
     "schema_version": 1,
     "solution": true
    }
   },
   "outputs": [],
   "source": [
    "# TASK 5\n",
    "# YOUR CODE HERE"
   ]
  },
  {
   "cell_type": "markdown",
   "metadata": {
    "nbgrader": {
     "grade": false,
     "grade_id": "cell-19ea8d05591373a6",
     "locked": true,
     "schema_version": 1,
     "solution": false
    }
   },
   "source": [
    "__Task 6:__ Use the `.plot` method again to see how unemployment in 2010 relates to unemployment in 2014 for each country. Choose a suitable plot type."
   ]
  },
  {
   "cell_type": "code",
   "execution_count": null,
   "metadata": {
    "ExecuteTime": {
     "end_time": "2018-09-03T22:54:52.088409Z",
     "start_time": "2018-09-03T22:54:51.855515Z"
    },
    "nbgrader": {
     "grade": true,
     "grade_id": "cell-b737b5d4a59b23e2",
     "locked": false,
     "points": 0,
     "schema_version": 1,
     "solution": true
    }
   },
   "outputs": [],
   "source": [
    "# TASK 6\n",
    "# YOUR CODE HERE"
   ]
  },
  {
   "cell_type": "markdown",
   "metadata": {
    "nbgrader": {
     "grade": false,
     "grade_id": "cell-e4126b30b2a3099d",
     "locked": true,
     "schema_version": 1,
     "solution": false
    }
   },
   "source": [
    "### 1.5 Exploring data independently\n",
    "\n",
    "__Task 7-10:__ Use any combination of _pandas_ methods to answer the questions below. You can use a [cheat sheet](https://github.com/pandas-dev/pandas/blob/master/doc/cheatsheet/Pandas_Cheat_Sheet.pdf) or the [pandas documentation](http://pandas.pydata.org/pandas-docs/stable/) aid you.\n",
    "\n",
    "All of the questions below are flawed in some way. For example, \"average unemployment rate\" has multiple meanings, some of which are more useful than others. Discuss with your partner issues you have with each of the questions.\n",
    "\n",
    "However, since the goal of this lab is to practice _pandas_, also write 1-2 lines of code for each block."
   ]
  },
  {
   "cell_type": "markdown",
   "metadata": {
    "nbgrader": {
     "grade": false,
     "grade_id": "cell-b38df8872126442c",
     "locked": true,
     "schema_version": 1,
     "solution": false
    }
   },
   "source": [
    "_What is the average unemployment rate for each year?_"
   ]
  },
  {
   "cell_type": "code",
   "execution_count": null,
   "metadata": {
    "ExecuteTime": {
     "end_time": "2018-09-03T23:02:34.007146Z",
     "start_time": "2018-09-03T23:02:33.995811Z"
    },
    "nbgrader": {
     "grade": true,
     "grade_id": "cell-697a780fdb78d20c",
     "locked": false,
     "points": 0,
     "schema_version": 1,
     "solution": true
    }
   },
   "outputs": [],
   "source": [
    "# <-- Start the line with a \"#\" to write comments in Python\n",
    "# TASK 7\n",
    "# YOUR CODE HERE"
   ]
  },
  {
   "cell_type": "markdown",
   "metadata": {
    "nbgrader": {
     "grade": false,
     "grade_id": "cell-6a88558ae43d5264",
     "locked": true,
     "schema_version": 1,
     "solution": false
    }
   },
   "source": [
    "_Which countries underwent the greatest increase in unemployment during this time?_"
   ]
  },
  {
   "cell_type": "code",
   "execution_count": null,
   "metadata": {
    "ExecuteTime": {
     "end_time": "2018-09-03T23:02:26.824627Z",
     "start_time": "2018-09-03T23:02:26.806311Z"
    },
    "nbgrader": {
     "grade": true,
     "grade_id": "cell-1bf45dd04223c09f",
     "locked": false,
     "points": 0,
     "schema_version": 1,
     "solution": true
    }
   },
   "outputs": [],
   "source": [
    "# TASK 8\n",
    "# YOUR CODE HERE"
   ]
  },
  {
   "cell_type": "markdown",
   "metadata": {
    "nbgrader": {
     "grade": false,
     "grade_id": "cell-47bf846a696adf8b",
     "locked": true,
     "schema_version": 1,
     "solution": false
    }
   },
   "source": [
    "_In which countries would you not recommend a 20-year-old try to find a job?_"
   ]
  },
  {
   "cell_type": "code",
   "execution_count": null,
   "metadata": {
    "ExecuteTime": {
     "end_time": "2018-09-03T23:00:48.164436Z",
     "start_time": "2018-09-03T23:00:48.147972Z"
    },
    "nbgrader": {
     "grade": true,
     "grade_id": "cell-44ca533d1237b0aa",
     "locked": false,
     "points": 0,
     "schema_version": 1,
     "solution": true
    }
   },
   "outputs": [],
   "source": [
    "# TASK 9\n",
    "# YOUR CODE HERE"
   ]
  },
  {
   "cell_type": "markdown",
   "metadata": {
    "nbgrader": {
     "grade": false,
     "grade_id": "cell-bb5b36780309825b",
     "locked": true,
     "schema_version": 1,
     "solution": false
    }
   },
   "source": [
    "_Do you think Arab Springs caused youth unemployment or youth unemployment led to Arab Springs?_"
   ]
  },
  {
   "cell_type": "code",
   "execution_count": null,
   "metadata": {
    "ExecuteTime": {
     "end_time": "2018-09-03T23:06:36.321189Z",
     "start_time": "2018-09-03T23:06:36.040360Z"
    },
    "nbgrader": {
     "grade": true,
     "grade_id": "cell-5fa18ccbffa5b11e",
     "locked": false,
     "points": 0,
     "schema_version": 1,
     "solution": true
    }
   },
   "outputs": [],
   "source": [
    "# TASK 10\n",
    "# YOUR CODE HERE"
   ]
  },
  {
   "cell_type": "markdown",
   "metadata": {
    "nbgrader": {
     "grade": false,
     "grade_id": "cell-8eda21791e0c8ff0",
     "locked": true,
     "schema_version": 1,
     "solution": false
    }
   },
   "source": [
    "__TA Check:__ When you are ready, call over a TA to come over. They will review your work and ask a couple of questions.\n",
    "\n",
    "### 1.6 Foreshadowing\n",
    "\n",
    "While waiting, here are some questions to discuss with your partner. Try to answer the questions with concrete units (# of rows, # of minutes, etc.):\n",
    "\n",
    "1. When does it make sense to use machine learning? When is SQL sufficient? When are visualizations good enough?\n",
    "2. When does it make sense to use a big data tool (like Apache Spark)? When is _pandas_ fine? When is Excel good enough?\n",
    "3. When does it make sense to optimize your code using C/Cython? When is _pandas_ ok? When is plain Python ample?"
   ]
  },
  {
   "cell_type": "markdown",
   "metadata": {
    "nbgrader": {
     "grade": false,
     "grade_id": "cell-296be5f11e26dbf5",
     "locked": true,
     "schema_version": 1,
     "solution": false
    }
   },
   "source": [
    "## Handing In\n",
    "\n",
    "Use PyCharm to commit and push this file to your remote repository. Share this file with your partner through email (or another medium)."
   ]
  },
  {
   "cell_type": "markdown",
   "metadata": {
    "nbgrader": {
     "grade": false,
     "grade_id": "cell-17f920e9025fb8b4",
     "locked": true,
     "schema_version": 1,
     "solution": false
    }
   },
   "source": [
    "## Part 2 (Optional) \n",
    "If you have time, try out Part 2, an analysis of a shopping dataset with 3 million rows from Instacart, a grocery delivering start up. This is slightly larger than what Excel can handle. Instructions are in the notebook `part2.ipynb`."
   ]
  },
  {
   "cell_type": "markdown",
   "metadata": {
    "nbgrader": {
     "grade": false,
     "grade_id": "cell-c8bf6faa570007ef",
     "locked": true,
     "schema_version": 1,
     "solution": false
    }
   },
   "source": [
    "## Summary\n",
    "\n",
    "This lab was an introduction to _pandas_ and Jupyter Notebook. While brief, we hope that this gives you the foundational experience to master those tools without explicit guidance.\n",
    "\n",
    "\n",
    "At the end (Tasks 7-10), we try to point out that while the libraries and concepts introduced in this course can be powerful, they will not be useful if you do not critically think about the problem you are trying to solve. Given the scope of this course, future labs will generally be more problem-solving heavy and more focused on CS concepts. However, we hope that you continue to think critically from the perspective of a data scientist both throughout and after this course.\n",
    "\n",
    "Below is a list of some important _pandas_ functions, many of which we used today.\n",
    "\n",
    "### Pandas\n",
    "\n",
    "#### Modules\n",
    "\n",
    "    import pandas as pd\n",
    "\n",
    "#### I/O\n",
    "\n",
    "    pd.read_csv()\n",
    "    df.to_csv()\n",
    "\n",
    "#### Indexing\n",
    "\n",
    "    df[column_name]\n",
    "    df[[column1, column2, ...]]\n",
    "    df.iloc[a:b,c:d]\n",
    "    df.loc[a:b,c:d]\n",
    "    df[boolean condition]\n",
    "\n",
    "#### Exploration\n",
    "\n",
    "    df.describe()\n",
    "    df.plot()"
   ]
  },
  {
   "cell_type": "markdown",
   "metadata": {
    "nbgrader": {
     "grade": false,
     "grade_id": "cell-3869a56f11167a38",
     "locked": true,
     "schema_version": 1,
     "solution": false
    }
   },
   "source": [
    "## Power Jupyter \n",
    "[Here](https://www.dataquest.io/blog/jupyter-notebook-tips-tricks-shortcuts/) is a great link to Jupyter power user tips and tricks. The commands below add a lot of interesting notebook extensions."
   ]
  },
  {
   "cell_type": "code",
   "execution_count": null,
   "metadata": {
    "nbgrader": {
     "grade": false,
     "grade_id": "cell-1cd4553049433807",
     "locked": true,
     "schema_version": 1,
     "solution": false
    }
   },
   "outputs": [],
   "source": [
    "!conda install -c conda-forge jupyter_contrib_nbextensions\n",
    "!jupyter contrib nbextension install --user --skip-running-check\n",
    "!jupyter nbextensions_configurator enable --user\n"
   ]
  }
 ],
 "metadata": {
  "celltoolbar": "Create Assignment",
  "kernelspec": {
   "display_name": "Python 3",
   "language": "python",
   "name": "python3"
  },
  "language_info": {
   "codemirror_mode": {
    "name": "ipython",
    "version": 3
   },
   "file_extension": ".py",
   "mimetype": "text/x-python",
   "name": "python",
   "nbconvert_exporter": "python",
   "pygments_lexer": "ipython3",
   "version": "3.6.5"
  },
  "toc": {
   "nav_menu": {},
   "number_sections": true,
   "sideBar": false,
   "skip_h1_title": false,
   "toc_cell": false,
   "toc_position": {
    "height": "22px",
    "left": "2px",
    "right": "20px",
    "top": "106px",
    "width": "149px"
   },
   "toc_section_display": "none",
   "toc_window_display": true
  },
  "varInspector": {
   "cols": {
    "lenName": 16,
    "lenType": 16,
    "lenVar": 40
   },
   "kernels_config": {
    "python": {
     "delete_cmd_postfix": "",
     "delete_cmd_prefix": "del ",
     "library": "var_list.py",
     "varRefreshCmd": "print(var_dic_list())"
    },
    "r": {
     "delete_cmd_postfix": ") ",
     "delete_cmd_prefix": "rm(",
     "library": "var_list.r",
     "varRefreshCmd": "cat(var_dic_list()) "
    }
   },
   "types_to_exclude": [
    "module",
    "function",
    "builtin_function_or_method",
    "instance",
    "_Feature"
   ],
   "window_display": false
  }
 },
 "nbformat": 4,
 "nbformat_minor": 2
}
